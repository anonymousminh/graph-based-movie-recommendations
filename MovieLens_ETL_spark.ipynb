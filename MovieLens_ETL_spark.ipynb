{
  "nbformat": 4,
  "nbformat_minor": 0,
  "metadata": {
    "colab": {
      "provenance": [],
      "gpuType": "T4"
    },
    "kernelspec": {
      "name": "python3",
      "display_name": "Python 3"
    },
    "language_info": {
      "name": "python"
    },
    "accelerator": "GPU"
  },
  "cells": [
    {
      "cell_type": "markdown",
      "source": [
        "# Extract data from MovieLens dataset\n"
      ],
      "metadata": {
        "id": "Gje1HzkOXfGT"
      }
    },
    {
      "cell_type": "code",
      "source": [
        "# First, we have to create a SparkSession\n",
        "from pyspark.sql import SparkSession\n",
        "spark = SparkSession.builder.appName(\"MovieLens\").getOrCreate()"
      ],
      "metadata": {
        "id": "5lTxRZFLX3FR"
      },
      "execution_count": 3,
      "outputs": []
    },
    {
      "cell_type": "code",
      "execution_count": 4,
      "metadata": {
        "id": "-HOcM-9HXalg"
      },
      "outputs": [],
      "source": [
        "# We will use PySpark to read movies.csv and ratings.csv\n",
        "movie = spark.read.csv(\"movies.csv\", header=True, inferSchema=True)\n",
        "rating = spark.read.csv(\"ratings.csv\", header=True, inferSchema=True)"
      ]
    },
    {
      "cell_type": "code",
      "source": [
        "# Print the first 5 movies from the movies dataset\n",
        "movie.show(5)"
      ],
      "metadata": {
        "colab": {
          "base_uri": "https://localhost:8080/"
        },
        "id": "CbFYlayyYakY",
        "outputId": "3afd70fd-8b40-4304-e5de-e0ae78ce200a"
      },
      "execution_count": 5,
      "outputs": [
        {
          "output_type": "stream",
          "name": "stdout",
          "text": [
            "+-------+--------------------+--------------------+\n",
            "|movieId|               title|              genres|\n",
            "+-------+--------------------+--------------------+\n",
            "|      1|    Toy Story (1995)|Adventure|Animati...|\n",
            "|      2|      Jumanji (1995)|Adventure|Childre...|\n",
            "|      3|Grumpier Old Men ...|      Comedy|Romance|\n",
            "|      4|Waiting to Exhale...|Comedy|Drama|Romance|\n",
            "|      5|Father of the Bri...|              Comedy|\n",
            "+-------+--------------------+--------------------+\n",
            "only showing top 5 rows\n",
            "\n"
          ]
        }
      ]
    },
    {
      "cell_type": "code",
      "source": [
        "# Print the first 5 ratings\n",
        "rating.show(5)"
      ],
      "metadata": {
        "colab": {
          "base_uri": "https://localhost:8080/"
        },
        "id": "Vh0DRF1uYqRm",
        "outputId": "bd526946-4116-43d2-dea4-62aae0dff419"
      },
      "execution_count": 6,
      "outputs": [
        {
          "output_type": "stream",
          "name": "stdout",
          "text": [
            "+------+-------+------+----------+\n",
            "|userId|movieId|rating| timestamp|\n",
            "+------+-------+------+----------+\n",
            "|     1|      1|   4.0|1225734739|\n",
            "|     1|    110|   4.0|1225865086|\n",
            "|     1|    158|   4.0|1225733503|\n",
            "|     1|    260|   4.5|1225735204|\n",
            "|     1|    356|   5.0|1225735119|\n",
            "+------+-------+------+----------+\n",
            "only showing top 5 rows\n",
            "\n"
          ]
        }
      ]
    },
    {
      "cell_type": "code",
      "source": [
        "# Let's consider the shape of the movie and rating dataset\n",
        "print(\"Shape of the movie dataset: \", (movie.count(), len(movie.columns)))\n",
        "print(\"Shape of the rating dataset: \", (rating.count(), len(rating.columns)))"
      ],
      "metadata": {
        "colab": {
          "base_uri": "https://localhost:8080/"
        },
        "id": "V56UyTUZYzVX",
        "outputId": "32b9c757-f9c2-4a7e-f6c8-b729f40e051b"
      },
      "execution_count": 7,
      "outputs": [
        {
          "output_type": "stream",
          "name": "stdout",
          "text": [
            "Shape of the movie dataset:  (86537, 3)\n",
            "Shape of the rating dataset:  (1599874, 4)\n"
          ]
        }
      ]
    },
    {
      "cell_type": "markdown",
      "source": [
        "# Transform the data"
      ],
      "metadata": {
        "id": "TIR8J0Rfomy1"
      }
    },
    {
      "cell_type": "markdown",
      "source": [
        "Now, let's join the ratings and movies dataset together"
      ],
      "metadata": {
        "id": "Jx6g41fxcbde"
      }
    },
    {
      "cell_type": "code",
      "source": [
        "# Inner join the rating and movie\n",
        "movie_rating = rating.join(movie, on=\"movieId\", how=\"inner\")"
      ],
      "metadata": {
        "id": "IqaFEAy7ca1h"
      },
      "execution_count": 8,
      "outputs": []
    },
    {
      "cell_type": "code",
      "source": [
        "# Print the first 5 records of the new joined dataset\n",
        "movie_rating.show(5)"
      ],
      "metadata": {
        "colab": {
          "base_uri": "https://localhost:8080/"
        },
        "id": "YhrnQlBtc1Dm",
        "outputId": "b492c02d-6f55-4a4b-e51c-5af9f1201f2e"
      },
      "execution_count": 9,
      "outputs": [
        {
          "output_type": "stream",
          "name": "stdout",
          "text": [
            "+-------+------+------+----------+--------------------+--------------------+\n",
            "|movieId|userId|rating| timestamp|               title|              genres|\n",
            "+-------+------+------+----------+--------------------+--------------------+\n",
            "|      1|     1|   4.0|1225734739|    Toy Story (1995)|Adventure|Animati...|\n",
            "|    110|     1|   4.0|1225865086|   Braveheart (1995)|    Action|Drama|War|\n",
            "|    158|     1|   4.0|1225733503|       Casper (1995)|  Adventure|Children|\n",
            "|    260|     1|   4.5|1225735204|Star Wars: Episod...|Action|Adventure|...|\n",
            "|    356|     1|   5.0|1225735119| Forrest Gump (1994)|Comedy|Drama|Roma...|\n",
            "+-------+------+------+----------+--------------------+--------------------+\n",
            "only showing top 5 rows\n",
            "\n"
          ]
        }
      ]
    },
    {
      "cell_type": "code",
      "source": [
        "# Now, we split the genres into multiple rows\n",
        "from pyspark.sql.functions import split, explode\n",
        "movie_rating = movie_rating.withColumn(\"genres\", explode(split(\"genres\", \"\\\\|\")))"
      ],
      "metadata": {
        "id": "nqtVATzCnbgO"
      },
      "execution_count": 10,
      "outputs": []
    },
    {
      "cell_type": "code",
      "source": [
        "movie_rating.show(10)"
      ],
      "metadata": {
        "colab": {
          "base_uri": "https://localhost:8080/"
        },
        "id": "YYyPgyQYnkz9",
        "outputId": "e45765bf-47e6-42d9-be82-94c1f0d3eb47"
      },
      "execution_count": 11,
      "outputs": [
        {
          "output_type": "stream",
          "name": "stdout",
          "text": [
            "+-------+------+------+----------+-----------------+---------+\n",
            "|movieId|userId|rating| timestamp|            title|   genres|\n",
            "+-------+------+------+----------+-----------------+---------+\n",
            "|      1|     1|   4.0|1225734739| Toy Story (1995)|Adventure|\n",
            "|      1|     1|   4.0|1225734739| Toy Story (1995)|Animation|\n",
            "|      1|     1|   4.0|1225734739| Toy Story (1995)| Children|\n",
            "|      1|     1|   4.0|1225734739| Toy Story (1995)|   Comedy|\n",
            "|      1|     1|   4.0|1225734739| Toy Story (1995)|  Fantasy|\n",
            "|    110|     1|   4.0|1225865086|Braveheart (1995)|   Action|\n",
            "|    110|     1|   4.0|1225865086|Braveheart (1995)|    Drama|\n",
            "|    110|     1|   4.0|1225865086|Braveheart (1995)|      War|\n",
            "|    158|     1|   4.0|1225733503|    Casper (1995)|Adventure|\n",
            "|    158|     1|   4.0|1225733503|    Casper (1995)| Children|\n",
            "+-------+------+------+----------+-----------------+---------+\n",
            "only showing top 10 rows\n",
            "\n"
          ]
        }
      ]
    },
    {
      "cell_type": "code",
      "source": [
        "# Convert the timestamp to datetime\n",
        "from pyspark.sql.functions import from_unixtime\n",
        "movie_rating = movie_rating.withColumn(\"timestamp\", from_unixtime(\"timestamp\"))"
      ],
      "metadata": {
        "id": "Xzr6NXUuoZtt"
      },
      "execution_count": 12,
      "outputs": []
    },
    {
      "cell_type": "code",
      "source": [
        "movie_rating.show(10)"
      ],
      "metadata": {
        "colab": {
          "base_uri": "https://localhost:8080/"
        },
        "id": "FAoIDpsUoe0F",
        "outputId": "603dbcd5-06a6-4e40-81e9-bc1e0e81f0be"
      },
      "execution_count": 13,
      "outputs": [
        {
          "output_type": "stream",
          "name": "stdout",
          "text": [
            "+-------+------+------+-------------------+-----------------+---------+\n",
            "|movieId|userId|rating|          timestamp|            title|   genres|\n",
            "+-------+------+------+-------------------+-----------------+---------+\n",
            "|      1|     1|   4.0|2008-11-03 17:52:19| Toy Story (1995)|Adventure|\n",
            "|      1|     1|   4.0|2008-11-03 17:52:19| Toy Story (1995)|Animation|\n",
            "|      1|     1|   4.0|2008-11-03 17:52:19| Toy Story (1995)| Children|\n",
            "|      1|     1|   4.0|2008-11-03 17:52:19| Toy Story (1995)|   Comedy|\n",
            "|      1|     1|   4.0|2008-11-03 17:52:19| Toy Story (1995)|  Fantasy|\n",
            "|    110|     1|   4.0|2008-11-05 06:04:46|Braveheart (1995)|   Action|\n",
            "|    110|     1|   4.0|2008-11-05 06:04:46|Braveheart (1995)|    Drama|\n",
            "|    110|     1|   4.0|2008-11-05 06:04:46|Braveheart (1995)|      War|\n",
            "|    158|     1|   4.0|2008-11-03 17:31:43|    Casper (1995)|Adventure|\n",
            "|    158|     1|   4.0|2008-11-03 17:31:43|    Casper (1995)| Children|\n",
            "+-------+------+------+-------------------+-----------------+---------+\n",
            "only showing top 10 rows\n",
            "\n"
          ]
        }
      ]
    },
    {
      "cell_type": "code",
      "source": [
        "# Remove timestamp column to finalize the dataset\n",
        "movie_rating = movie_rating.drop(\"timestamp\")"
      ],
      "metadata": {
        "id": "arg17rHXpd-x"
      },
      "execution_count": 14,
      "outputs": []
    },
    {
      "cell_type": "code",
      "source": [
        "movie_rating.show(10)"
      ],
      "metadata": {
        "colab": {
          "base_uri": "https://localhost:8080/"
        },
        "id": "R4q1T496pzV2",
        "outputId": "a7690bd9-8511-498e-dae9-d149923f31cf"
      },
      "execution_count": 15,
      "outputs": [
        {
          "output_type": "stream",
          "name": "stdout",
          "text": [
            "+-------+------+------+-----------------+---------+\n",
            "|movieId|userId|rating|            title|   genres|\n",
            "+-------+------+------+-----------------+---------+\n",
            "|      1|     1|   4.0| Toy Story (1995)|Adventure|\n",
            "|      1|     1|   4.0| Toy Story (1995)|Animation|\n",
            "|      1|     1|   4.0| Toy Story (1995)| Children|\n",
            "|      1|     1|   4.0| Toy Story (1995)|   Comedy|\n",
            "|      1|     1|   4.0| Toy Story (1995)|  Fantasy|\n",
            "|    110|     1|   4.0|Braveheart (1995)|   Action|\n",
            "|    110|     1|   4.0|Braveheart (1995)|    Drama|\n",
            "|    110|     1|   4.0|Braveheart (1995)|      War|\n",
            "|    158|     1|   4.0|    Casper (1995)|Adventure|\n",
            "|    158|     1|   4.0|    Casper (1995)| Children|\n",
            "+-------+------+------+-----------------+---------+\n",
            "only showing top 10 rows\n",
            "\n"
          ]
        }
      ]
    },
    {
      "cell_type": "code",
      "source": [
        "# Print the shape of movie_rating dataset\n",
        "print(\"Shape of the movie_rating dataset: \", (movie_rating.count(), len(movie_rating.columns)))"
      ],
      "metadata": {
        "colab": {
          "base_uri": "https://localhost:8080/"
        },
        "id": "B1fKa_0rA25Y",
        "outputId": "38c46eb7-cf85-43f3-84d2-1577df3bbce5"
      },
      "execution_count": 17,
      "outputs": [
        {
          "output_type": "stream",
          "name": "stdout",
          "text": [
            "Shape of the movie_rating dataset:  (4358974, 5)\n"
          ]
        }
      ]
    },
    {
      "cell_type": "code",
      "source": [
        "# Export the final dataset to a single CSV file\n",
        "movie_rating.coalesce(1).write.csv(\"movie_ratings.csv\", header=True)"
      ],
      "metadata": {
        "id": "QPBFQf1LqTh1"
      },
      "execution_count": 16,
      "outputs": []
    }
  ]
}